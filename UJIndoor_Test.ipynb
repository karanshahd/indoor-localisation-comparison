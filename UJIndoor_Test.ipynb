{
 "cells": [
  {
   "cell_type": "code",
   "execution_count": 4,
   "metadata": {},
   "outputs": [],
   "source": [
    "import pickle\n",
    "import numpy as np\n",
    "%run Algorithms.ipynb\n",
    "\n",
    "# reload model and use it to make predictions for test data\n",
    "def test_trained_model(model_path, test_data, test_target):\n",
    "    saved_model_dic = pickle.load(open(model_path,\"rb\"))\n",
    "    saved_best_features = saved_model_dic['best_features']\n",
    "    saved_best_parameters = saved_model_dic['best_parameters']\n",
    "    saved_best_model = saved_model_dic['best_model']\n",
    "    test_data_sig = test_data[ : , saved_best_features]\n",
    "    return saved_best_model.score(test_data_sig, test_target, *saved_best_parameters)"
   ]
  },
  {
   "cell_type": "code",
   "execution_count": 5,
   "metadata": {},
   "outputs": [],
   "source": [
    "loc_validation = np.loadtxt(fname = \"C:\\\\Users\\\\kssfv\\\\Downloads\\\\UJIndoorLoc\\\\UJIndoorLoc\\\\validationData.csv\", skiprows = 1, delimiter=\",\")\n",
    "\n",
    "loc_validation_data = loc_validation[: , : 520]\n",
    "loc_validation_target = loc_validation[: , 520 :]"
   ]
  },
  {
   "cell_type": "code",
   "execution_count": 6,
   "metadata": {},
   "outputs": [
    {
     "name": "stdout",
     "output_type": "stream",
     "text": [
      "[0.83359136]\n"
     ]
    }
   ],
   "source": [
    "#Checking accuracy on validation set\n",
    "print(test_trained_model(\"sample_trained_model.pickle\", loc_validation_data, loc_validation_target))\n"
   ]
  },
  {
   "cell_type": "code",
   "execution_count": null,
   "metadata": {},
   "outputs": [],
   "source": []
  }
 ],
 "metadata": {
  "kernelspec": {
   "display_name": "Python 3",
   "language": "python",
   "name": "python3"
  },
  "language_info": {
   "codemirror_mode": {
    "name": "ipython",
    "version": 3
   },
   "file_extension": ".py",
   "mimetype": "text/x-python",
   "name": "python",
   "nbconvert_exporter": "python",
   "pygments_lexer": "ipython3",
   "version": "3.8.3"
  }
 },
 "nbformat": 4,
 "nbformat_minor": 4
}
